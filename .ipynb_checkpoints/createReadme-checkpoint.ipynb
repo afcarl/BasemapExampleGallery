{
 "metadata": {
  "name": ""
 },
 "nbformat": 3,
 "nbformat_minor": 0,
 "worksheets": [
  {
   "cells": [
    {
     "cell_type": "code",
     "collapsed": false,
     "input": [
      "import os"
     ],
     "language": "python",
     "metadata": {},
     "outputs": [],
     "prompt_number": 1
    },
    {
     "cell_type": "code",
     "collapsed": false,
     "input": [
      "f=open('README.md','w')\n",
      "\n",
      "prestring=\"\"\"\n",
      "# Matplotlib Basemap Example\n",
      "Showing an example for some Matplotlib Basemap Projections\n",
      "--------\n",
      "\n",
      "\n",
      "## What is it for?\n",
      "\n",
      "You can take a look at the [Basemap Documentation](http://matplotlib.org/basemap/users/), but it is not an overview. This is:\n",
      "\"\"\"\n",
      "f.write(prestring)\n",
      "\n",
      "maps=[]\n",
      "imgExts = [\"png\"]\n",
      "for path, dirs, files in os.walk('.'):\n",
      "    for fileName in files:\n",
      "        ext = fileName[-3:].lower()\n",
      "        if ext not in imgExts:\n",
      "            continue\n",
      "        else:\n",
      "            maps.append('![Projection](https://github.com/balzer82/BasemapExampleGallery/blob/master/' + fileName + '?raw=true)')\n",
      "            \n",
      "mapstablestring='\\n'.join(maps)\n",
      "f.write(mapstablestring)\n",
      "f.close()"
     ],
     "language": "python",
     "metadata": {},
     "outputs": [],
     "prompt_number": 4
    },
    {
     "cell_type": "code",
     "collapsed": false,
     "input": [],
     "language": "python",
     "metadata": {},
     "outputs": []
    }
   ],
   "metadata": {}
  }
 ]
}