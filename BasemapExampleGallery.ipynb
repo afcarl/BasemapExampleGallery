{
 "metadata": {
  "name": ""
 },
 "nbformat": 3,
 "nbformat_minor": 0,
 "worksheets": [
  {
   "cells": [
    {
     "cell_type": "code",
     "collapsed": false,
     "input": [
      "from mpl_toolkits.basemap import Basemap\n",
      "import matplotlib.pyplot as plt\n",
      "import numpy as np\n",
      "import os\n",
      "import time"
     ],
     "language": "python",
     "metadata": {},
     "outputs": []
    },
    {
     "cell_type": "code",
     "collapsed": false,
     "input": [
      "# Font Default\n",
      "plt.rcParams.update({'font.size': 12, 'font.family': 'serif'})"
     ],
     "language": "python",
     "metadata": {},
     "outputs": []
    },
    {
     "cell_type": "heading",
     "level": 2,
     "metadata": {},
     "source": [
      "Basemap Projections"
     ]
    },
    {
     "cell_type": "code",
     "collapsed": false,
     "input": [
      "# Some of them are commented out because they do need some lat_1 or width or lat_0\n",
      "# parameters, which do not fit the other ones\n",
      "projections = [\n",
      "'cea', #\tCylindrical Equal Area\n",
      "'mbtfpq',#\tMcBryde-Thomas Flat-Polar Quartic\n",
      "'aeqd',#\tAzimuthal Equidistant\n",
      "'sinu',#\tSinusoidal\n",
      "'poly',#\tPolyconic\n",
      "#'omerc',#\tOblique Mercator\n",
      "'gnom',#\tGnomonic\n",
      "'moll',#\tMollweide\n",
      "'lcc', #\tLambert Conformal\n",
      "'tmerc',#\tTransverse Mercator\n",
      "#'nplaea',#\tNorth-Polar Lambert Azimuthal\n",
      "'gall',#\tGall Stereographic Cylindrical\n",
      "#'npaeqd',#\tNorth-Polar Azimuthal Equidistant\n",
      "'mill',#\tMiller Cylindrical\n",
      "'merc',#\tMercator\n",
      "'stere',#\tStereographic\n",
      "'eqdc',#\tEquidistant Conic\n",
      "#'rotpole',#\tRotated Pole\n",
      "'cyl', #\tCylindrical Equidistant\n",
      "#'npstere',#\tNorth-Polar Stereographic\n",
      "#'spstere',#\tSouth-Polar Stereographic\n",
      "'hammer',#\tHammer\n",
      "#'geos',#\tGeostationary\n",
      "'nsper',#\tNear-Sided Perspective\n",
      "'eck4',#\tEckert IV\n",
      "'aea', #\tAlbers Equal Area\n",
      "'kav7',#\tKavrayskiy VII\n",
      "#'spaeqd',#\tSouth-Polar Azimuthal Equidistant\n",
      "#'ortho',#\tOrthographic\n",
      "'cass',#\tCassini-Soldner\n",
      "#'vandg',#\tvan der Grinten (a lot of RAM needed!!)\n",
      "'laea',#\tLambert Azimuthal Equal Area\n",
      "#'splaea',#\tSouth-Polar Lambert Azimuthal\n",
      "'robin']#\tRobinson"
     ],
     "language": "python",
     "metadata": {},
     "outputs": []
    },
    {
     "cell_type": "heading",
     "level": 2,
     "metadata": {},
     "source": [
      "Render Map"
     ]
    },
    {
     "cell_type": "code",
     "collapsed": false,
     "input": [
      "def rendermap(projection):\n",
      "    '''\n",
      "    For sinu, moll, hammer, npstere, spstere, nplaea, splaea, npaeqd,\n",
      "    spaeqd, robin, eck4, kav7, or mbtfpq, the values of\n",
      "    llcrnrlon, llcrnrlat, urcrnrlon, urcrnrlat, width and height\n",
      "    are ignored (because either they are computed internally,\n",
      "    or entire globe is always plotted).\n",
      "    '''\n",
      "    m=Basemap(llcrnrlon=-12.0, \\\n",
      "            llcrnrlat=32.0, \\\n",
      "            urcrnrlon=54.4, \\\n",
      "            urcrnrlat=65.3, \\\n",
      "            llcrnrx=None, \\\n",
      "            llcrnry=None, \\\n",
      "            urcrnrx=None, \\\n",
      "            urcrnry=None, \\\n",
      "            width=None, \\\n",
      "            height=None, \\\n",
      "            projection=projection, \\\n",
      "            resolution='h', \\\n",
      "            area_thresh=1000, \\\n",
      "            rsphere=6370997.0, \\\n",
      "            ellps=None, \\\n",
      "            lat_ts=None, \\\n",
      "            lat_1=None, \\\n",
      "            lat_2=None, \\\n",
      "            lat_0=51.0, \\\n",
      "            lon_0=13.0, \\\n",
      "            lon_1=None, \\\n",
      "            lon_2=None, \\\n",
      "            o_lon_p=None, \\\n",
      "            o_lat_p=None, \\\n",
      "            k_0=None, \\\n",
      "            no_rot=True, \\\n",
      "            suppress_ticks=True, \\\n",
      "            satellite_height=35786000, \\\n",
      "            boundinglat=None, \\\n",
      "            fix_aspect=True, \\\n",
      "            anchor='C', \\\n",
      "            celestial=False, \\\n",
      "            round=False, \\\n",
      "            epsg=None, \\\n",
      "            ax=None)\n",
      "    \n",
      "    m.drawcountries(linewidth=0.2, linestyle='solid', color='w', antialiased=1, ax=None, zorder=None)\n",
      "    \n",
      "    m.drawparallels(np.arange(-90.,120.,10.),labels=[0,0,0,0],linewidth=0.2) # draw parallels\n",
      "    m.drawmeridians(np.arange(0.,420.,10.),labels=[0,0,0,0],linewidth=0.2) # draw meridians\n",
      "\n",
      "    m.shadedrelief()\n",
      "\n",
      "    plt.title('\\'' + projection + '\\' Projection', fontsize=12)\n",
      "    plt.savefig(fname, dpi=300, bbox_inches='tight', transparent=True)\n",
      "    plt.close()\n",
      "    print('Saved \\'' + fname + '\\'')"
     ],
     "language": "python",
     "metadata": {},
     "outputs": []
    },
    {
     "cell_type": "heading",
     "level": 2,
     "metadata": {},
     "source": [
      "Loop through all projections"
     ]
    },
    {
     "cell_type": "code",
     "collapsed": false,
     "input": [
      "elapsed=dict()\n",
      "for idx, projection in enumerate(projections):\n",
      "    fname = 'Basemap-' + projection + '-Projection.png'\n",
      "    try:\n",
      "       with open(fname):\n",
      "           print \"Basemap #%.0f/%.0f (%s) already exist.\" % (idx+1, len(projections), fname)\n",
      "    except IOError:\n",
      "        print \"Rendering Basemap #%.0f/%.0f\" % (idx+1, len(projections))\n",
      "        start = float(time.clock())\n",
      "        rendermap(projection)\n",
      "        elapsed[projection]=time.clock()-start"
     ],
     "language": "python",
     "metadata": {},
     "outputs": []
    },
    {
     "cell_type": "heading",
     "level": 2,
     "metadata": {},
     "source": [
      "Render Times"
     ]
    },
    {
     "cell_type": "code",
     "collapsed": false,
     "input": [
      "names = sorted(elapsed, key=elapsed.get, reverse=True)\n",
      "times = sorted(elapsed.values()/np.max(elapsed.values()), reverse=True)"
     ],
     "language": "python",
     "metadata": {},
     "outputs": []
    },
    {
     "cell_type": "code",
     "collapsed": false,
     "input": [
      "fig = plt.figure(figsize=(16,6))\n",
      "plt.bar(range(len(names)), times, align='center')\n",
      "plt.xticks(range(len(elapsed)), names, rotation = 30, ha='right')\n",
      "plt.title('Basemap Projections Rendering Time (relative)')\n",
      "plt.grid(True)\n",
      "plt.ylim([0, 1.1])\n",
      "fig.savefig('BasemapRenderTimes.png',dpi=300,Transparent=True, bbox_inches='tight')\n",
      "plt.close()"
     ],
     "language": "python",
     "metadata": {},
     "outputs": []
    },
    {
     "cell_type": "heading",
     "level": 2,
     "metadata": {},
     "source": [
      "HTML Output"
     ]
    },
    {
     "cell_type": "code",
     "collapsed": false,
     "input": [
      "f=open('BasemapGallery.html','w')\n",
      "\n",
      "htmlintrostring = \"\"\"\n",
      "<html>\n",
      "<head>\n",
      "<title>Basemap Projections Example Gallery</title>\n",
      "<style>\n",
      "div { margin: 0px auto; width:800px;}\n",
      "img {width: 800px;}\n",
      "h1 {font-size: 30px;}\n",
      "</style>\n",
      "</head>\n",
      "<body>\n",
      "<div>\n",
      "<table>\n",
      "     <tr>\n",
      "       <th><h1>Matplotlib Basemap Projections Example Gallery</h1></th>\n",
      "     </tr>\n",
      "\"\"\"\n",
      "f.write(htmlintrostring)\n",
      "\n",
      "maps=[]\n",
      "imgExts = [\"png\"]\n",
      "for path, dirs, files in os.walk('.'):\n",
      "    for fileName in files:\n",
      "        ext = fileName[-3:].lower()\n",
      "        if ext not in imgExts:\n",
      "            continue\n",
      "        else:\n",
      "            maps.append('\\t\\t<tr><td><img src=\"' + fileName + '\"></td></tr>')\n",
      "            \n",
      "mapstablestring='\\n'.join(maps)\n",
      "f.write(mapstablestring)\n",
      "\n",
      "htmlclosestring=\"\"\"     \n",
      "</table>\n",
      "</div>\n",
      "</body>\n",
      "</html>\n",
      "\"\"\"\n",
      "f.write(htmlclosestring)\n",
      "f.close()"
     ],
     "language": "python",
     "metadata": {},
     "outputs": []
    },
    {
     "cell_type": "code",
     "collapsed": false,
     "input": [],
     "language": "python",
     "metadata": {},
     "outputs": []
    },
    {
     "cell_type": "code",
     "collapsed": false,
     "input": [],
     "language": "python",
     "metadata": {},
     "outputs": []
    }
   ],
   "metadata": {}
  }
 ]
}